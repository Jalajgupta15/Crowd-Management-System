{
 "cells": [
  {
   "cell_type": "code",
   "execution_count": null,
   "id": "a4afe779",
   "metadata": {},
   "outputs": [],
   "source": [
    "import pandas as pd\n",
    "import numpy as np\n",
    "import matplotlib.pyplot as plt\n",
    "%matplotlib inline\n",
    "from datetime import datetime\n"
   ]
  },
  {
   "cell_type": "code",
   "execution_count": null,
   "id": "8fa6e533",
   "metadata": {},
   "outputs": [],
   "source": [
    "df=pd.read_csv(\"data.csv\")"
   ]
  },
  {
   "cell_type": "code",
   "execution_count": null,
   "id": "05e983ac",
   "metadata": {},
   "outputs": [
    {
     "data": {
      "text/html": [
       "<div>\n",
       "<style scoped>\n",
       "    .dataframe tbody tr th:only-of-type {\n",
       "        vertical-align: middle;\n",
       "    }\n",
       "\n",
       "    .dataframe tbody tr th {\n",
       "        vertical-align: top;\n",
       "    }\n",
       "\n",
       "    .dataframe thead th {\n",
       "        text-align: right;\n",
       "    }\n",
       "</style>\n",
       "<table border=\"1\" class=\"dataframe\">\n",
       "  <thead>\n",
       "    <tr style=\"text-align: right;\">\n",
       "      <th></th>\n",
       "      <th>number_people</th>\n",
       "      <th>date</th>\n",
       "      <th>timestamp</th>\n",
       "      <th>day_of_week</th>\n",
       "      <th>is_weekend</th>\n",
       "      <th>is_holiday</th>\n",
       "      <th>temperature</th>\n",
       "      <th>is_start_of_semester</th>\n",
       "      <th>is_during_semester</th>\n",
       "      <th>month</th>\n",
       "      <th>hour</th>\n",
       "    </tr>\n",
       "  </thead>\n",
       "  <tbody>\n",
       "    <tr>\n",
       "      <th>0</th>\n",
       "      <td>37</td>\n",
       "      <td>2015-08-14 17:00:11-07:00</td>\n",
       "      <td>61211</td>\n",
       "      <td>4</td>\n",
       "      <td>0</td>\n",
       "      <td>0</td>\n",
       "      <td>71.76</td>\n",
       "      <td>0</td>\n",
       "      <td>0</td>\n",
       "      <td>8</td>\n",
       "      <td>17</td>\n",
       "    </tr>\n",
       "    <tr>\n",
       "      <th>1</th>\n",
       "      <td>45</td>\n",
       "      <td>2015-08-14 17:20:14-07:00</td>\n",
       "      <td>62414</td>\n",
       "      <td>4</td>\n",
       "      <td>0</td>\n",
       "      <td>0</td>\n",
       "      <td>71.76</td>\n",
       "      <td>0</td>\n",
       "      <td>0</td>\n",
       "      <td>8</td>\n",
       "      <td>17</td>\n",
       "    </tr>\n",
       "    <tr>\n",
       "      <th>2</th>\n",
       "      <td>40</td>\n",
       "      <td>2015-08-14 17:30:15-07:00</td>\n",
       "      <td>63015</td>\n",
       "      <td>4</td>\n",
       "      <td>0</td>\n",
       "      <td>0</td>\n",
       "      <td>71.76</td>\n",
       "      <td>0</td>\n",
       "      <td>0</td>\n",
       "      <td>8</td>\n",
       "      <td>17</td>\n",
       "    </tr>\n",
       "    <tr>\n",
       "      <th>3</th>\n",
       "      <td>44</td>\n",
       "      <td>2015-08-14 17:40:16-07:00</td>\n",
       "      <td>63616</td>\n",
       "      <td>4</td>\n",
       "      <td>0</td>\n",
       "      <td>0</td>\n",
       "      <td>71.76</td>\n",
       "      <td>0</td>\n",
       "      <td>0</td>\n",
       "      <td>8</td>\n",
       "      <td>17</td>\n",
       "    </tr>\n",
       "    <tr>\n",
       "      <th>4</th>\n",
       "      <td>45</td>\n",
       "      <td>2015-08-14 17:50:17-07:00</td>\n",
       "      <td>64217</td>\n",
       "      <td>4</td>\n",
       "      <td>0</td>\n",
       "      <td>0</td>\n",
       "      <td>71.76</td>\n",
       "      <td>0</td>\n",
       "      <td>0</td>\n",
       "      <td>8</td>\n",
       "      <td>17</td>\n",
       "    </tr>\n",
       "  </tbody>\n",
       "</table>\n",
       "</div>"
      ],
      "text/plain": [
       "   number_people                       date  timestamp  day_of_week  \\\n",
       "0             37  2015-08-14 17:00:11-07:00      61211            4   \n",
       "1             45  2015-08-14 17:20:14-07:00      62414            4   \n",
       "2             40  2015-08-14 17:30:15-07:00      63015            4   \n",
       "3             44  2015-08-14 17:40:16-07:00      63616            4   \n",
       "4             45  2015-08-14 17:50:17-07:00      64217            4   \n",
       "\n",
       "   is_weekend  is_holiday  temperature  is_start_of_semester  \\\n",
       "0           0           0        71.76                     0   \n",
       "1           0           0        71.76                     0   \n",
       "2           0           0        71.76                     0   \n",
       "3           0           0        71.76                     0   \n",
       "4           0           0        71.76                     0   \n",
       "\n",
       "   is_during_semester  month  hour  \n",
       "0                   0      8    17  \n",
       "1                   0      8    17  \n",
       "2                   0      8    17  \n",
       "3                   0      8    17  \n",
       "4                   0      8    17  "
      ]
     },
     "execution_count": 3,
     "metadata": {},
     "output_type": "execute_result"
    }
   ],
   "source": [
    "df.head()"
   ]
  },
  {
   "cell_type": "code",
   "execution_count": null,
   "id": "c96e574f",
   "metadata": {},
   "outputs": [],
   "source": [
    "df[\"date\"]=pd.to_datetime(df[\"date\"],utc=True)"
   ]
  },
  {
   "cell_type": "code",
   "execution_count": null,
   "id": "9c6d1c92",
   "metadata": {},
   "outputs": [
    {
     "name": "stdout",
     "output_type": "stream",
     "text": [
      "<class 'pandas.core.frame.DataFrame'>\n",
      "RangeIndex: 62184 entries, 0 to 62183\n",
      "Data columns (total 11 columns):\n",
      " #   Column                Non-Null Count  Dtype              \n",
      "---  ------                --------------  -----              \n",
      " 0   number_people         62184 non-null  int64              \n",
      " 1   date                  62184 non-null  datetime64[ns, UTC]\n",
      " 2   timestamp             62184 non-null  int64              \n",
      " 3   day_of_week           62184 non-null  int64              \n",
      " 4   is_weekend            62184 non-null  int64              \n",
      " 5   is_holiday            62184 non-null  int64              \n",
      " 6   temperature           62184 non-null  float64            \n",
      " 7   is_start_of_semester  62184 non-null  int64              \n",
      " 8   is_during_semester    62184 non-null  int64              \n",
      " 9   month                 62184 non-null  int64              \n",
      " 10  hour                  62184 non-null  int64              \n",
      "dtypes: datetime64[ns, UTC](1), float64(1), int64(9)\n",
      "memory usage: 5.2 MB\n"
     ]
    }
   ],
   "source": [
    "df.info()"
   ]
  },
  {
   "cell_type": "code",
   "execution_count": null,
   "id": "fa6e9400",
   "metadata": {},
   "outputs": [
    {
     "data": {
      "text/plain": [
       "0         0\n",
       "1        20\n",
       "2        30\n",
       "3        40\n",
       "4        50\n",
       "         ..\n",
       "62179    42\n",
       "62180    52\n",
       "62181     2\n",
       "62182    12\n",
       "62183    22\n",
       "Name: minute, Length: 62184, dtype: int64"
      ]
     },
     "execution_count": 6,
     "metadata": {},
     "output_type": "execute_result"
    }
   ],
   "source": [
    "df[\"minute\"]=df[\"date\"].dt.minute\n",
    "df[\"minute\"]"
   ]
  },
  {
   "cell_type": "code",
   "execution_count": null,
   "id": "168760c7",
   "metadata": {},
   "outputs": [],
   "source": [
    "df[\"second\"]=df[\"date\"].dt.second"
   ]
  },
  {
   "cell_type": "code",
   "execution_count": null,
   "id": "6abf0888",
   "metadata": {},
   "outputs": [],
   "source": [
    "df[\"dates\"]=df[\"date\"].dt.date\n",
    "df[\"dates\"] = pd.to_datetime(df[\"dates\"]).dt.strftime(\"%Y%m%d\")\n",
    "df[\"dates\"][:10]\n",
    "df[\"dates\"] = pd.to_numeric(df[\"dates\"])\n"
   ]
  },
  {
   "cell_type": "code",
   "execution_count": null,
   "id": "8ed940a7",
   "metadata": {},
   "outputs": [],
   "source": [
    "gym=df.drop(\"date\",axis=1)"
   ]
  },
  {
   "cell_type": "code",
   "execution_count": null,
   "id": "c7dfb980",
   "metadata": {},
   "outputs": [
    {
     "data": {
      "text/plain": [
       "dtype('int64')"
      ]
     },
     "execution_count": 10,
     "metadata": {},
     "output_type": "execute_result"
    }
   ],
   "source": [
    "gym[\"dates\"].dtypes"
   ]
  },
  {
   "cell_type": "code",
   "execution_count": null,
   "id": "fd409e9b",
   "metadata": {},
   "outputs": [
    {
     "data": {
      "text/plain": [
       "0    20150815\n",
       "1    20150815\n",
       "2    20150815\n",
       "3    20150815\n",
       "4    20150815\n",
       "5    20150815\n",
       "6    20150815\n",
       "7    20150815\n",
       "8    20150815\n",
       "9    20150815\n",
       "Name: dates, dtype: int64"
      ]
     },
     "execution_count": 11,
     "metadata": {},
     "output_type": "execute_result"
    }
   ],
   "source": [
    "gym[\"dates\"][:10]"
   ]
  },
  {
   "cell_type": "code",
   "execution_count": null,
   "id": "96d8c759",
   "metadata": {},
   "outputs": [
    {
     "data": {
      "text/plain": [
       "number_people           0\n",
       "timestamp               0\n",
       "day_of_week             0\n",
       "is_weekend              0\n",
       "is_holiday              0\n",
       "temperature             0\n",
       "is_start_of_semester    0\n",
       "is_during_semester      0\n",
       "month                   0\n",
       "hour                    0\n",
       "minute                  0\n",
       "second                  0\n",
       "dates                   0\n",
       "dtype: int64"
      ]
     },
     "execution_count": 12,
     "metadata": {},
     "output_type": "execute_result"
    }
   ],
   "source": [
    "gym.isna().sum()"
   ]
  },
  {
   "cell_type": "markdown",
   "id": "e0ccd8f5",
   "metadata": {},
   "source": [
    "## Training model with Ridge"
   ]
  },
  {
   "cell_type": "code",
   "execution_count": null,
   "id": "a3c19fb6",
   "metadata": {},
   "outputs": [
    {
     "data": {
      "text/plain": [
       "0.606246771222107"
      ]
     },
     "execution_count": 21,
     "metadata": {},
     "output_type": "execute_result"
    }
   ],
   "source": [
    "# import algorihtm/estimator\n",
    "from sklearn.linear_model import Ridge\n",
    "#setup random seeds\n",
    "np.random.seed(42)\n",
    "\n",
    "#create data\n",
    "x=gym.drop([\"number_people\"],axis=1)\n",
    "y=gym[\"number_people\"]\n",
    "\n",
    "# split data into train and test sets\n",
    "x_train,x_test,y_train,y_test= train_test_split(x,y,test_size=0.2)\n",
    "\n",
    "#instantiate and fit the model (on the training set)\n",
    "model =Ridge()\n",
    "model.fit(x_train,y_train)\n",
    "\n",
    "# check the score of model (on the test set)\n",
    "model.score(x_test,y_test)"
   ]
  },
  {
   "cell_type": "markdown",
   "id": "f72ac7f0",
   "metadata": {},
   "source": [
    "## _Training a model with RandomForestRegressor_"
   ]
  },
  {
   "cell_type": "code",
   "execution_count": null,
   "id": "13072754",
   "metadata": {},
   "outputs": [
    {
     "data": {
      "text/plain": [
       "RandomForestRegressor()"
      ]
     },
     "execution_count": 13,
     "metadata": {},
     "output_type": "execute_result"
    }
   ],
   "source": [
    "from sklearn.ensemble import RandomForestRegressor\n",
    "from sklearn.model_selection import train_test_split\n",
    "np.random.seed(42)\n",
    "#fit the data\n",
    "X=gym.drop([\"number_people\"],axis=1)\n",
    "y=gym[\"number_people\"]\n",
    "\n",
    "#split the data\n",
    "X_train,X_test,y_train,y_test=train_test_split(X,y,test_size=0.2)\n",
    "\n",
    "model=RandomForestRegressor()\n",
    "\n",
    "model.fit(X_train,y_train)\n"
   ]
  },
  {
   "cell_type": "code",
   "execution_count": null,
   "id": "9975d000",
   "metadata": {},
   "outputs": [
    {
     "data": {
      "text/plain": [
       "0.9426610920644627"
      ]
     },
     "execution_count": 14,
     "metadata": {},
     "output_type": "execute_result"
    }
   ],
   "source": [
    "model.score(X_test,y_test)"
   ]
  },
  {
   "cell_type": "markdown",
   "id": "4249753f",
   "metadata": {},
   "source": [
    "## _lets predict the model_"
   ]
  },
  {
   "cell_type": "code",
   "execution_count": null,
   "id": "236c9ac5",
   "metadata": {},
   "outputs": [
    {
     "data": {
      "text/plain": [
       "<map at 0x1ced9d67e50>"
      ]
     },
     "execution_count": 15,
     "metadata": {},
     "output_type": "execute_result"
    }
   ],
   "source": [
    "from sklearn.ensemble import RandomForestRegressor\n",
    "from sklearn.model_selection import train_test_split\n",
    "np.random.seed(42)\n",
    "#fit the data\n",
    "X=gym.drop([\"number_people\"],axis=1)\n",
    "y=gym[\"number_people\"]\n",
    "\n",
    "#split the data\n",
    "X_train,X_test,y_train,y_test=train_test_split(X,y,test_size=0.2)\n",
    "\n",
    "model=RandomForestRegressor()\n",
    "\n",
    "model.fit(X_train,y_train)\n",
    "y_preds=model.predict(X_test)\n",
    "a=y_preds # converting exponent no.\n",
    "map('{:.2f}%'.format,a)\n"
   ]
  },
  {
   "cell_type": "code",
   "execution_count": null,
   "id": "258ca82a",
   "metadata": {},
   "outputs": [
    {
     "data": {
      "text/plain": [
       "array([ 0.81, 33.6 , 25.65, 65.58,  0.42, 81.13, 15.37, 48.68, 28.12,\n",
       "       58.61])"
      ]
     },
     "execution_count": 16,
     "metadata": {},
     "output_type": "execute_result"
    }
   ],
   "source": [
    "a[:10]"
   ]
  },
  {
   "cell_type": "markdown",
   "id": "acc3c37b",
   "metadata": {},
   "source": [
    "#### Here finding Mean Absolute Error"
   ]
  },
  {
   "cell_type": "code",
   "execution_count": null,
   "id": "3c9eebcb",
   "metadata": {},
   "outputs": [
    {
     "data": {
      "text/plain": [
       "3.7146675243225857"
      ]
     },
     "execution_count": 17,
     "metadata": {},
     "output_type": "execute_result"
    }
   ],
   "source": [
    "from sklearn.metrics import mean_absolute_error\n",
    "mean_absolute_error(y_test,y_preds)"
   ]
  },
  {
   "cell_type": "code",
   "execution_count": null,
   "id": "f0d065e7",
   "metadata": {},
   "outputs": [
    {
     "data": {
      "text/plain": [
       "array([-0.25570307,  0.46690568,  0.6593598 ,  0.70465118,  0.4179958 ])"
      ]
     },
     "execution_count": 46,
     "metadata": {},
     "output_type": "execute_result"
    }
   ],
   "source": [
    "from sklearn.model_selection import cross_val_score\n",
    "cross_val_score(model,X,y)\n",
    "np.random.seed(42)\n",
    "cross_val_score(model,X,y,cv=5,scoring=None)"
   ]
  },
  {
   "cell_type": "code",
   "execution_count": null,
   "id": "2a798370",
   "metadata": {},
   "outputs": [
    {
     "data": {
      "text/plain": [
       "(0.9426610920644627, 0.39864187767266246)"
      ]
     },
     "execution_count": 20,
     "metadata": {},
     "output_type": "execute_result"
    }
   ],
   "source": [
    "np.random.seed(42)\n",
    "\n",
    "# single training and test split score\n",
    "model_single_score=model.score(X_test,y_test)\n",
    "\n",
    "# take the mean of cross_val_score\n",
    "model_cross_val_score=np.mean(cross_val_score(model,X,y))\n",
    "\n",
    "#compare the two\n",
    "model_single_score,model_cross_val_score"
   ]
  },
  {
   "cell_type": "code",
   "execution_count": null,
   "id": "321ee615",
   "metadata": {},
   "outputs": [
    {
     "data": {
      "text/plain": [
       "29.04221275227145"
      ]
     },
     "execution_count": 22,
     "metadata": {},
     "output_type": "execute_result"
    }
   ],
   "source": [
    "y_test.mean()"
   ]
  },
  {
   "cell_type": "markdown",
   "id": "a1b5a40f",
   "metadata": {},
   "source": [
    "### ___Regression Model Evaluation___"
   ]
  },
  {
   "cell_type": "code",
   "execution_count": null,
   "id": "bbe79069",
   "metadata": {},
   "outputs": [],
   "source": [
    "from sklearn.metrics import r2_score\n",
    "\n",
    "# fill an array with y_test mean just for demonstration\n",
    "y_test_mean=np.full(len(y_test),y_test.mean())"
   ]
  },
  {
   "cell_type": "code",
   "execution_count": null,
   "id": "c324f413",
   "metadata": {},
   "outputs": [
    {
     "data": {
      "text/plain": [
       "array([29.04221275, 29.04221275, 29.04221275, 29.04221275, 29.04221275,\n",
       "       29.04221275, 29.04221275, 29.04221275, 29.04221275, 29.04221275])"
      ]
     },
     "execution_count": 24,
     "metadata": {},
     "output_type": "execute_result"
    }
   ],
   "source": [
    "y_test_mean[:10]"
   ]
  },
  {
   "cell_type": "code",
   "execution_count": null,
   "id": "ba3fe9e3",
   "metadata": {},
   "outputs": [
    {
     "data": {
      "text/plain": [
       "0.9426610920644627"
      ]
     },
     "execution_count": 25,
     "metadata": {},
     "output_type": "execute_result"
    }
   ],
   "source": [
    "r2_score(y_true=y_test,\n",
    "         y_pred= a)"
   ]
  },
  {
   "cell_type": "markdown",
   "id": "2677243c",
   "metadata": {},
   "source": [
    "##### Mean absolute error"
   ]
  },
  {
   "cell_type": "code",
   "execution_count": null,
   "id": "71096397",
   "metadata": {},
   "outputs": [
    {
     "data": {
      "text/plain": [
       "10.656102257545719"
      ]
     },
     "execution_count": 26,
     "metadata": {},
     "output_type": "execute_result"
    }
   ],
   "source": [
    "from sklearn.metrics import mean_absolute_error\n",
    "np.random.seed(42)\n",
    "y_preds=model.predict(X_test)\n",
    "mae=mean_absolute_error(y_test,y_preds)\n",
    "mae"
   ]
  },
  {
   "cell_type": "code",
   "execution_count": null,
   "id": "36407c14",
   "metadata": {},
   "outputs": [
    {
     "data": {
      "text/plain": [
       "array([ 0.81, 33.6 , 25.65, 65.58,  0.42, 81.13, 15.37, 48.68, 28.12,\n",
       "       58.61])"
      ]
     },
     "execution_count": 27,
     "metadata": {},
     "output_type": "execute_result"
    }
   ],
   "source": [
    "a[:10]"
   ]
  },
  {
   "cell_type": "code",
   "execution_count": null,
   "id": "6a158600",
   "metadata": {},
   "outputs": [
    {
     "data": {
      "text/plain": [
       "44802     1\n",
       "51279    27\n",
       "36816    26\n",
       "2503     71\n",
       "53035     0\n",
       "2399     79\n",
       "54313    18\n",
       "24735    58\n",
       "47458    34\n",
       "18250    64\n",
       "Name: number_people, dtype: int64"
      ]
     },
     "execution_count": 28,
     "metadata": {},
     "output_type": "execute_result"
    }
   ],
   "source": [
    "y_test[:10]"
   ]
  },
  {
   "cell_type": "code",
   "execution_count": null,
   "id": "4fd4429c",
   "metadata": {},
   "outputs": [
    {
     "data": {
      "text/html": [
       "<div>\n",
       "<style scoped>\n",
       "    .dataframe tbody tr th:only-of-type {\n",
       "        vertical-align: middle;\n",
       "    }\n",
       "\n",
       "    .dataframe tbody tr th {\n",
       "        vertical-align: top;\n",
       "    }\n",
       "\n",
       "    .dataframe thead th {\n",
       "        text-align: right;\n",
       "    }\n",
       "</style>\n",
       "<table border=\"1\" class=\"dataframe\">\n",
       "  <thead>\n",
       "    <tr style=\"text-align: right;\">\n",
       "      <th></th>\n",
       "      <th>actual value</th>\n",
       "      <th>predicted value</th>\n",
       "      <th>Difference</th>\n",
       "    </tr>\n",
       "  </thead>\n",
       "  <tbody>\n",
       "    <tr>\n",
       "      <th>44802</th>\n",
       "      <td>1</td>\n",
       "      <td>0.81</td>\n",
       "      <td>-0.19</td>\n",
       "    </tr>\n",
       "    <tr>\n",
       "      <th>51279</th>\n",
       "      <td>27</td>\n",
       "      <td>33.60</td>\n",
       "      <td>6.60</td>\n",
       "    </tr>\n",
       "    <tr>\n",
       "      <th>36816</th>\n",
       "      <td>26</td>\n",
       "      <td>25.65</td>\n",
       "      <td>-0.35</td>\n",
       "    </tr>\n",
       "    <tr>\n",
       "      <th>2503</th>\n",
       "      <td>71</td>\n",
       "      <td>65.58</td>\n",
       "      <td>-5.42</td>\n",
       "    </tr>\n",
       "    <tr>\n",
       "      <th>53035</th>\n",
       "      <td>0</td>\n",
       "      <td>0.42</td>\n",
       "      <td>0.42</td>\n",
       "    </tr>\n",
       "    <tr>\n",
       "      <th>2399</th>\n",
       "      <td>79</td>\n",
       "      <td>81.13</td>\n",
       "      <td>2.13</td>\n",
       "    </tr>\n",
       "    <tr>\n",
       "      <th>54313</th>\n",
       "      <td>18</td>\n",
       "      <td>15.37</td>\n",
       "      <td>-2.63</td>\n",
       "    </tr>\n",
       "    <tr>\n",
       "      <th>24735</th>\n",
       "      <td>58</td>\n",
       "      <td>48.68</td>\n",
       "      <td>-9.32</td>\n",
       "    </tr>\n",
       "    <tr>\n",
       "      <th>47458</th>\n",
       "      <td>34</td>\n",
       "      <td>28.12</td>\n",
       "      <td>-5.88</td>\n",
       "    </tr>\n",
       "    <tr>\n",
       "      <th>18250</th>\n",
       "      <td>64</td>\n",
       "      <td>58.61</td>\n",
       "      <td>-5.39</td>\n",
       "    </tr>\n",
       "  </tbody>\n",
       "</table>\n",
       "</div>"
      ],
      "text/plain": [
       "       actual value  predicted value  Difference\n",
       "44802             1             0.81       -0.19\n",
       "51279            27            33.60        6.60\n",
       "36816            26            25.65       -0.35\n",
       "2503             71            65.58       -5.42\n",
       "53035             0             0.42        0.42\n",
       "2399             79            81.13        2.13\n",
       "54313            18            15.37       -2.63\n",
       "24735            58            48.68       -9.32\n",
       "47458            34            28.12       -5.88\n",
       "18250            64            58.61       -5.39"
      ]
     },
     "execution_count": 29,
     "metadata": {},
     "output_type": "execute_result"
    }
   ],
   "source": [
    "df=pd.DataFrame(data={'actual value':y_test,\n",
    "                      'predicted value':a})\n",
    "df['Difference']=df['predicted value']-df[\"actual value\"]\n",
    "df.head(10)"
   ]
  },
  {
   "cell_type": "code",
   "execution_count": null,
   "id": "285cf5bb",
   "metadata": {},
   "outputs": [
    {
     "data": {
      "text/plain": [
       "0.08372758703867468"
      ]
     },
     "execution_count": 30,
     "metadata": {},
     "output_type": "execute_result"
    }
   ],
   "source": [
    "df['Difference'].mean() # here negative value is also included thats why it is different"
   ]
  },
  {
   "cell_type": "code",
   "execution_count": null,
   "id": "30018ec8",
   "metadata": {},
   "outputs": [
    {
     "data": {
      "text/plain": [
       "3.7146675243225933"
      ]
     },
     "execution_count": 31,
     "metadata": {},
     "output_type": "execute_result"
    }
   ],
   "source": [
    "np.abs(df['Difference']).mean()"
   ]
  },
  {
   "cell_type": "markdown",
   "id": "2c6c6d48",
   "metadata": {},
   "source": [
    "#### Mean squared error"
   ]
  },
  {
   "cell_type": "code",
   "execution_count": null,
   "id": "32e799be",
   "metadata": {},
   "outputs": [
    {
     "data": {
      "text/plain": [
       "203.51045045263305"
      ]
     },
     "execution_count": 32,
     "metadata": {},
     "output_type": "execute_result"
    }
   ],
   "source": [
    "from sklearn.metrics import mean_squared_error\n",
    "\n",
    "mse=mean_squared_error(y_test,y_preds)\n",
    "mse"
   ]
  },
  {
   "cell_type": "code",
   "execution_count": null,
   "id": "b9190e79",
   "metadata": {},
   "outputs": [
    {
     "data": {
      "text/html": [
       "<div>\n",
       "<style scoped>\n",
       "    .dataframe tbody tr th:only-of-type {\n",
       "        vertical-align: middle;\n",
       "    }\n",
       "\n",
       "    .dataframe tbody tr th {\n",
       "        vertical-align: top;\n",
       "    }\n",
       "\n",
       "    .dataframe thead th {\n",
       "        text-align: right;\n",
       "    }\n",
       "</style>\n",
       "<table border=\"1\" class=\"dataframe\">\n",
       "  <thead>\n",
       "    <tr style=\"text-align: right;\">\n",
       "      <th></th>\n",
       "      <th>actual value</th>\n",
       "      <th>predicted value</th>\n",
       "      <th>Difference</th>\n",
       "      <th>Squared_Difference</th>\n",
       "    </tr>\n",
       "  </thead>\n",
       "  <tbody>\n",
       "    <tr>\n",
       "      <th>44802</th>\n",
       "      <td>1</td>\n",
       "      <td>0.81</td>\n",
       "      <td>-0.19</td>\n",
       "      <td>0.0361</td>\n",
       "    </tr>\n",
       "    <tr>\n",
       "      <th>51279</th>\n",
       "      <td>27</td>\n",
       "      <td>33.60</td>\n",
       "      <td>6.60</td>\n",
       "      <td>43.5600</td>\n",
       "    </tr>\n",
       "    <tr>\n",
       "      <th>36816</th>\n",
       "      <td>26</td>\n",
       "      <td>25.65</td>\n",
       "      <td>-0.35</td>\n",
       "      <td>0.1225</td>\n",
       "    </tr>\n",
       "    <tr>\n",
       "      <th>2503</th>\n",
       "      <td>71</td>\n",
       "      <td>65.58</td>\n",
       "      <td>-5.42</td>\n",
       "      <td>29.3764</td>\n",
       "    </tr>\n",
       "    <tr>\n",
       "      <th>53035</th>\n",
       "      <td>0</td>\n",
       "      <td>0.42</td>\n",
       "      <td>0.42</td>\n",
       "      <td>0.1764</td>\n",
       "    </tr>\n",
       "  </tbody>\n",
       "</table>\n",
       "</div>"
      ],
      "text/plain": [
       "       actual value  predicted value  Difference  Squared_Difference\n",
       "44802             1             0.81       -0.19              0.0361\n",
       "51279            27            33.60        6.60             43.5600\n",
       "36816            26            25.65       -0.35              0.1225\n",
       "2503             71            65.58       -5.42             29.3764\n",
       "53035             0             0.42        0.42              0.1764"
      ]
     },
     "execution_count": 34,
     "metadata": {},
     "output_type": "execute_result"
    }
   ],
   "source": [
    "df[\"Squared_Difference\"]=np.square(df[\"Difference\"])\n",
    "df.head()"
   ]
  },
  {
   "cell_type": "markdown",
   "id": "ffb68a54",
   "metadata": {},
   "source": [
    "### ___Improving the model____"
   ]
  },
  {
   "cell_type": "code",
   "execution_count": null,
   "id": "6772e5c0",
   "metadata": {},
   "outputs": [
    {
     "name": "stdout",
     "output_type": "stream",
     "text": [
      "trying with model with10 estimators\n",
      "Model accuracy on test set:93.6531596317923\n",
      "\n",
      "trying with model with20 estimators\n",
      "Model accuracy on test set:94.03505029694111\n",
      "\n",
      "trying with model with30 estimators\n",
      "Model accuracy on test set:94.12331284319261\n",
      "\n",
      "trying with model with40 estimators\n",
      "Model accuracy on test set:94.21482399980185\n",
      "\n",
      "trying with model with50 estimators\n",
      "Model accuracy on test set:94.22049923273347\n",
      "\n",
      "trying with model with60 estimators\n",
      "Model accuracy on test set:94.22819732625321\n",
      "\n",
      "trying with model with70 estimators\n",
      "Model accuracy on test set:94.27087345243342\n",
      "\n",
      "trying with model with80 estimators\n",
      "Model accuracy on test set:94.27942218102213\n",
      "\n",
      "trying with model with90 estimators\n",
      "Model accuracy on test set:94.24680973853432\n",
      "\n",
      "trying with model with100 estimators\n",
      "Model accuracy on test set:94.2613663712304\n",
      "\n"
     ]
    }
   ],
   "source": [
    "np.random.seed(42)\n",
    "for i in range(10,110,10):\n",
    "    print(f'trying with model with{i} estimators')\n",
    "    model=RandomForestRegressor(n_estimators=i).fit(X_train,y_train)\n",
    "    print(f'Model accuracy on test set:{model.score(X_test,y_test)*100}')\n",
    "    print(\"\")"
   ]
  },
  {
   "cell_type": "markdown",
   "id": "f01a41cd",
   "metadata": {},
   "source": [
    "### ___Saving the model___"
   ]
  },
  {
   "cell_type": "code",
   "execution_count": null,
   "id": "a2572dc5",
   "metadata": {},
   "outputs": [],
   "source": [
    "import pickle\n",
    "pickle.dump(model,open(\"gym.pkl\",\"wb\"))"
   ]
  },
  {
   "cell_type": "markdown",
   "id": "3af8cd61",
   "metadata": {},
   "source": [
    "#### ___To load the model write the following code___"
   ]
  },
  {
   "cell_type": "code",
   "execution_count": null,
   "id": "62d00971",
   "metadata": {},
   "outputs": [
    {
     "data": {
      "text/plain": [
       "0.9424680973853432"
      ]
     },
     "execution_count": 47,
     "metadata": {},
     "output_type": "execute_result"
    }
   ],
   "source": [
    "# loaded_model=pickle.load(open(\"gym.pkl\",\"rb\"))\n",
    "# loaded_model.score(X_test,y_test)"
   ]
  }
 ],
 "metadata": {
  "kernelspec": {
   "display_name": "Python 3 (ipykernel)",
   "language": "python",
   "name": "python3"
  },
  "language_info": {
   "codemirror_mode": {
    "name": "ipython",
    "version": 3
   },
   "file_extension": ".py",
   "mimetype": "text/x-python",
   "name": "python",
   "nbconvert_exporter": "python",
   "pygments_lexer": "ipython3",
   "version": "3.9.7"
  }
 },
 "nbformat": 4,
 "nbformat_minor": 5
}
